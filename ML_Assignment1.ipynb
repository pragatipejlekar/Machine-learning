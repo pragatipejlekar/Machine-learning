{
  "nbformat": 4,
  "nbformat_minor": 0,
  "metadata": {
    "colab": {
      "name": "ML_Assignment1.ipynb",
      "provenance": []
    },
    "kernelspec": {
      "name": "python3",
      "display_name": "Python 3"
    },
    "language_info": {
      "name": "python"
    }
  },
  "cells": [
    {
      "cell_type": "code",
      "execution_count": null,
      "metadata": {
        "id": "Jl5G0qbuV7IF"
      },
      "outputs": [],
      "source": [
        ""
      ]
    },
    {
      "cell_type": "markdown",
      "source": [
        "1. What does one mean by the term &quot;machine learning&quot;?\n",
        "\n",
        "Machine learning is an application of AI that enables systems to learn and improve from experience without being explicitly programmed. Machine learning focuses on developing computer programs that can access data and use it to learn for themselves.\n",
        "\n",
        " 2.Can you think of 4 distinct types of issues where it shines?\n",
        " \n",
        " Four main challenges in Machine Learning include overfitting the data (using a model too complicated), underfitting the data (using a simple model), lacking in data and nonrepresentative data.\n",
        "\n",
        " 3.What is a labeled training set, and how does it work?\n",
        "\n",
        "The training set is used to train the algorithm, and then you use the trained model on the test set to predict the response variable values that are already known. The final step is to compare the predicted responses against the actual (observed) responses to see how close they are\n",
        "\n",
        "4.What are the two most important tasks that are supervised?\n",
        "\n",
        "Two most common supervised tasks are classification and regression.\n",
        "\n",
        "5. Can you think of four examples of unsupervised tasks?\n",
        "\n",
        "Four common unsupervised tasks inclused clustering, visualization, dimensionality reduction , and association rule learning.\n",
        "\n",
        "6.State the machine learning model that would be best to make a robot walk through various\n",
        "unfamiliar terrains?\n",
        "\n",
        "I would use a reinforcement learning approach. Reinforcement learning is a system where an \"agent\" observes the environment, selects and performs actions, then recieves a reward or punishment based on the result of the action. Over time the agent learns by itself what is the most productive strategy.\n",
        "\n",
        "7.Which algorithm will you use to divide your customers into different groups?\n",
        "\n",
        "The k-means clustering algorithm\n",
        "\n",
        "8.Will you consider the problem of spam detection to be a supervised or unsupervised learning\n",
        "problem?\n",
        "\n",
        "A spam detection is a classic supervised learning problem. but anomoly detection problem(which is unsupervised learning)\n",
        "\n",
        "9.What is the concept of an online learning system?\n",
        "\n",
        " In online learning, the training happens in an incremental manner by continuously feeding data as it arrives or in a small group. \n",
        "\n",
        " 10.What is out-of-core learning, and how does it differ from core learning?\n",
        "\n",
        " Out-of-core learning is used when a dataset is too large to fit into a computer's memory. The algorithm loads part of the data, runs a training step, then repeats the process until it has run on all the data.\n",
        "\n",
        "11.What kind of learning algorithm makes predictions using a similarity measure?\n",
        "\n",
        "Learning algorithm that relies on a similarity measure to make predictions is instance-based algorithm.\n",
        "\n",
        "12.What&#39;s the difference between a model parameter and a hyperparameter in a learning\n",
        "algorithm?\n",
        "Model Parameters: These are the parameters in the model that must be determined using the training data set. These are the fitted parameters. Hyperparameters: These are adjustable parameters that must be tuned in order to obtain a model with optimal performance\n",
        "A hyperparameter is a parameter of the learning algorithm, not the model. For example, in a simple linear regression problem our model is parameterized by theta which is a vector of weights. In order to find the best values for theta we have a cost function which is run repeatedly by the gradient descent algorithm. Gradient descent has a hyperparameter called alpha which is the learning rate of the algorithm.\n",
        "\n",
        "13.What are the criteria that model-based learning algorithms look for? What is the most popular\n",
        "method they use to achieve success? What method do they use to make predictions?\n",
        "\n",
        "he goal for a model-based algorithm is to be able to generalize to new examples. To do this, model based algorithms search for optimal values for the model's parameters, often called theta. This searching, or \"learning\", is what machine learning is all about. Model-based system learn by minimizing a cost function that measures how bad the system is at making predicitons on new data, plus a penalty for model complexity if the model is regularized. To make a prediction, a new instance's features are fed into a hypothesis function which uses the minimized theta found by repeatedly running the cost function.\n",
        "\n",
        "14) Can you name 4 of the main challenges in Machine Learning?\n",
        "Not gathering enough data, or sampling noise. Sampling noise means we'll have non-representative data as a result of chance.\n",
        "\n",
        "\n",
        "\n",
        "Your dataset is full of missing values, outliers, and noise (poor measurments).\n",
        "\n",
        "The features in your dataset are irrelevant. Garbage in, garbage out.\n",
        "\n",
        "Feature selection - choose the most relevant features from your dataset\n",
        "Feature extraction - combine features in your dataset to generate a new, more useful feature\n",
        "When your model performs well on the training data, but not on test data, you've over fit your model. Models that suffer from overfitting do not generalize well to new examples. Overfitting happens when the model is too complex relative to the amount and noisiness of the data.\n",
        "\n",
        "Try simplyfying the model by reducing the number of features in the data or constraining the parameters by reducing the degrees of freedom.\n",
        "Gather more training data.\n",
        "Reduce noise in the training data by fixing errors and removing outliers.\n",
        "When your model is too simple to learn the underlying structure of the data you've underfit your model.\n",
        "\n",
        "Select a more powerful model with more parameters\n",
        "Use feature engineering to feed better features to the model\n",
        "Reduce the constraints of the model (increase degrees of freedom, reduce regularization parameter, etc.)\n",
        "\n",
        "15) If your model performs great on the training data but generalizes poorly to new instances, what is happening? Can you name 3 possible solutions?\n",
        "\n",
        "This is a case where the model is overfitting the training data. To couteract overfitting, we can reduce the complexity of the model by removing features or constraining the parameters. We could gather more data. Finally we can reduce noisiness in the data by fixing errors and removing outliers.\n",
        "\n",
        "16) What is a test set and why would you want to use it?\n",
        "When we want to know how well our model generalizes to new cases we prefer to use a test set instead of actually deploying the system. To build the test set we split the training data (50-50, 60-40, 80-20 are common splits) into a training set and test set. Our model is training with the training set. Then we use the model to run predictions on the test set. Our error rate on the test set is called the generalization error or out-of-sample error. This error tells us how well our model performs on examples it has never seen before.\n",
        "\n",
        "If the training error is low, but the generalization error is high, it means we're overfitting our model.\n",
        "\n",
        "17) What is the purpose of a validation set?\n",
        "\n",
        "Let's say we have a linear model and we want to perform some hyperparameter tuning to reduce the generalization error. One way to do this 100 different models with 100 different hyperparameter values using the training set and finding the generalization error with the test set. You find the best hyperparameter value gives you 5% generalization error.\n",
        "\n",
        "So you launch the model into production and find you're seeing 15% generalization error. This isn't going as expected. What happened?\n",
        "\n",
        "The problem is that for each iteration of hyperparameter tuning, you measured the generalization error then updated the model using the same test set. In other words, your produced the best generalization error for the test set. The test set no longer represents cases the model hasn't seen before.\n",
        "\n",
        "A common solution to this problem is to have a second holdout set called the validation set. You train multiple models with various hyperparameters using the training set, you select the model and hyperparameters that perform best on the validation set, and when you are happy about your model you run a single final test against the test set to get an estimate of the generalization error.\n",
        "\n",
        "18) What can go wrong if you tune hyperparameters using the test set?\n",
        "Your model will not be generalizable to new examples.\n",
        "\n",
        "19) What is cross-validation and why would you prefer it to a validation set?\n",
        "Cross-validation helps us compare models without wasting too much training data in the validation set."
      ],
      "metadata": {
        "id": "WEBqx4UvWLhe"
      }
    },
    {
      "cell_type": "markdown",
      "source": [
        ""
      ],
      "metadata": {
        "id": "zK_HLIwHbTfW"
      }
    }
  ]
}